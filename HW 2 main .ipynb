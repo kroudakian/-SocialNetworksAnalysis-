{
 "cells": [
  {
   "cell_type": "code",
   "execution_count": 1,
   "id": "62a0d08b",
   "metadata": {},
   "outputs": [
    {
     "name": "stdout",
     "output_type": "stream",
     "text": [
      "%pylab is deprecated, use %matplotlib inline and import the required libraries.\n",
      "Populating the interactive namespace from numpy and matplotlib\n"
     ]
    }
   ],
   "source": [
    "%pylab inline\n",
    "import networkx as nx \n",
    "import pandas as pd \n",
    "import seaborn as sns\n",
    "import random\n",
    "colors = [\n",
    "    \"#4169E1\",  # Royal Blue\n",
    "    \"#DC143C\",  # Crimson\n",
    "    \"#006400\",  # Dark Green\n",
    "    \"#FFA500\",  # Orange\n",
    "    \"#FF1493\",  # Deep Pink\n",
    "    \"#9370DB\",  # Medium Purple\n",
    "    \"#556B2F\",  # Olive Green\n",
    "    \"#00CED1\",  # Dark Turquoise\n",
    "    \"#DAA520\",  # Goldenrod\n",
    "    \"#9932CC\",  # Dark Orchid\n",
    "    \"#B22222\",  # Firebrick\n",
    "    \"#4682B4\",  # Steel Blue\n",
    "    \"#2F4F4F\",  # Dark Slate Gray\n",
    "    \"#A0522D\",  # Sienna\n",
    "    \"#C71585\"   # Medium Violet Red\n",
    "]"
   ]
  },
  {
   "cell_type": "markdown",
   "id": "e489c6d0",
   "metadata": {},
   "source": [
    "### 1. Import data and generate the graph"
   ]
  },
  {
   "cell_type": "code",
   "execution_count": 2,
   "id": "05959fee",
   "metadata": {},
   "outputs": [
    {
     "ename": "FileNotFoundError",
     "evalue": "[Errno 2] No such file or directory: 'ca-HepTh.txt'",
     "output_type": "error",
     "traceback": [
      "\u001b[0;31m---------------------------------------------------------------------------\u001b[0m",
      "\u001b[0;31mFileNotFoundError\u001b[0m                         Traceback (most recent call last)",
      "Input \u001b[0;32mIn [2]\u001b[0m, in \u001b[0;36m<cell line: 5>\u001b[0;34m()\u001b[0m\n\u001b[1;32m      2\u001b[0m G \u001b[38;5;241m=\u001b[39m nx\u001b[38;5;241m.\u001b[39mGraph()\n\u001b[1;32m      4\u001b[0m \u001b[38;5;66;03m# read the file\u001b[39;00m\n\u001b[0;32m----> 5\u001b[0m \u001b[38;5;28;01mwith\u001b[39;00m \u001b[38;5;28;43mopen\u001b[39;49m\u001b[43m(\u001b[49m\u001b[38;5;124;43m'\u001b[39;49m\u001b[38;5;124;43mca-HepTh.txt\u001b[39;49m\u001b[38;5;124;43m'\u001b[39;49m\u001b[43m,\u001b[49m\u001b[43m \u001b[49m\u001b[38;5;124;43m'\u001b[39;49m\u001b[38;5;124;43mr\u001b[39;49m\u001b[38;5;124;43m'\u001b[39;49m\u001b[43m)\u001b[49m \u001b[38;5;28;01mas\u001b[39;00m file:\n\u001b[1;32m      6\u001b[0m     \u001b[38;5;28;01mfor\u001b[39;00m line \u001b[38;5;129;01min\u001b[39;00m file:\n\u001b[1;32m      7\u001b[0m         \u001b[38;5;66;03m# Skip comment lines\u001b[39;00m\n\u001b[1;32m      8\u001b[0m         \u001b[38;5;28;01mif\u001b[39;00m line\u001b[38;5;241m.\u001b[39mstartswith(\u001b[38;5;124m\"\u001b[39m\u001b[38;5;124m#\u001b[39m\u001b[38;5;124m\"\u001b[39m):\n",
      "\u001b[0;31mFileNotFoundError\u001b[0m: [Errno 2] No such file or directory: 'ca-HepTh.txt'"
     ]
    }
   ],
   "source": [
    "# Create directed graph\n",
    "G = nx.Graph()\n",
    "\n",
    "# read the file\n",
    "with open('ca-HepTh.txt', 'r') as file:\n",
    "    for line in file:\n",
    "        # Skip comment lines\n",
    "        if line.startswith(\"#\"):\n",
    "            continue\n",
    "\n",
    "        # Split the line into parts\n",
    "        parts = line.strip().split()\n",
    "        \n",
    "        # Only consider lines with exactly two values\n",
    "        if len(parts) == 2:\n",
    "            i, j = parts\n",
    "            G.add_edge(i, j)\n",
    "        else:\n",
    "            print(f\"Skipping line with unexpected format: {line.strip()}\")"
   ]
  },
  {
   "cell_type": "code",
   "execution_count": null,
   "id": "2d8d5446",
   "metadata": {},
   "outputs": [],
   "source": []
  }
 ],
 "metadata": {
  "kernelspec": {
   "display_name": "Python 3 (ipykernel)",
   "language": "python",
   "name": "python3"
  },
  "language_info": {
   "codemirror_mode": {
    "name": "ipython",
    "version": 3
   },
   "file_extension": ".py",
   "mimetype": "text/x-python",
   "name": "python",
   "nbconvert_exporter": "python",
   "pygments_lexer": "ipython3",
   "version": "3.9.12"
  },
  "varInspector": {
   "cols": {
    "lenName": 16,
    "lenType": 16,
    "lenVar": 40
   },
   "kernels_config": {
    "python": {
     "delete_cmd_postfix": "",
     "delete_cmd_prefix": "del ",
     "library": "var_list.py",
     "varRefreshCmd": "print(var_dic_list())"
    },
    "r": {
     "delete_cmd_postfix": ") ",
     "delete_cmd_prefix": "rm(",
     "library": "var_list.r",
     "varRefreshCmd": "cat(var_dic_list()) "
    }
   },
   "types_to_exclude": [
    "module",
    "function",
    "builtin_function_or_method",
    "instance",
    "_Feature"
   ],
   "window_display": false
  }
 },
 "nbformat": 4,
 "nbformat_minor": 5
}
